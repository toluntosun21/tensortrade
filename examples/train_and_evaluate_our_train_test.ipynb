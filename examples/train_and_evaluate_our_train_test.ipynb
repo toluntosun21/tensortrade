{
 "cells": [
  {
   "cell_type": "markdown",
   "source": [
    "## Install TensorTrade"
   ],
   "metadata": {
    "collapsed": false
   }
  },
  {
   "cell_type": "code",
   "execution_count": 12,
   "outputs": [],
   "source": [
    "#!python -m pip install -e .. -U"
   ],
   "metadata": {
    "collapsed": false,
    "pycharm": {
     "name": "#%%\n"
    }
   }
  },
  {
   "cell_type": "markdown",
   "source": [
    "## Setup Data Fetching\n",
    "\n",
    "\n"
   ],
   "metadata": {
    "collapsed": false
   }
  },
  {
   "cell_type": "code",
   "execution_count": 13,
   "outputs": [],
   "source": [
    "import pandas as pd\n",
    "\n",
    "data = pd.read_csv('btc_data_train.csv')\n",
    "test_data = pd.read_csv('btc_data_test.csv')"
   ],
   "metadata": {
    "collapsed": false,
    "pycharm": {
     "name": "#%%\n"
    }
   }
  },
  {
   "cell_type": "code",
   "execution_count": 14,
   "outputs": [
    {
     "data": {
      "text/plain": "             date  BTC:open  BTC:high  BTC:low  BTC:close  BTC:volume\n0  7/1/2017 11:00   2505.56   2513.38  2495.12    2509.17   287000.32\n1  7/1/2017 12:00   2509.17   2512.87  2484.99    2488.43   393142.50\n2  7/1/2017 13:00   2488.43   2488.43  2454.40    2454.43   693254.01\n3  7/1/2017 14:00   2454.43   2473.93  2450.83    2459.35   712864.80\n4  7/1/2017 15:00   2459.35   2475.00  2450.00    2467.83   682105.41",
      "text/html": "<div>\n<style scoped>\n    .dataframe tbody tr th:only-of-type {\n        vertical-align: middle;\n    }\n\n    .dataframe tbody tr th {\n        vertical-align: top;\n    }\n\n    .dataframe thead th {\n        text-align: right;\n    }\n</style>\n<table border=\"1\" class=\"dataframe\">\n  <thead>\n    <tr style=\"text-align: right;\">\n      <th></th>\n      <th>date</th>\n      <th>BTC:open</th>\n      <th>BTC:high</th>\n      <th>BTC:low</th>\n      <th>BTC:close</th>\n      <th>BTC:volume</th>\n    </tr>\n  </thead>\n  <tbody>\n    <tr>\n      <th>0</th>\n      <td>7/1/2017 11:00</td>\n      <td>2505.56</td>\n      <td>2513.38</td>\n      <td>2495.12</td>\n      <td>2509.17</td>\n      <td>287000.32</td>\n    </tr>\n    <tr>\n      <th>1</th>\n      <td>7/1/2017 12:00</td>\n      <td>2509.17</td>\n      <td>2512.87</td>\n      <td>2484.99</td>\n      <td>2488.43</td>\n      <td>393142.50</td>\n    </tr>\n    <tr>\n      <th>2</th>\n      <td>7/1/2017 13:00</td>\n      <td>2488.43</td>\n      <td>2488.43</td>\n      <td>2454.40</td>\n      <td>2454.43</td>\n      <td>693254.01</td>\n    </tr>\n    <tr>\n      <th>3</th>\n      <td>7/1/2017 14:00</td>\n      <td>2454.43</td>\n      <td>2473.93</td>\n      <td>2450.83</td>\n      <td>2459.35</td>\n      <td>712864.80</td>\n    </tr>\n    <tr>\n      <th>4</th>\n      <td>7/1/2017 15:00</td>\n      <td>2459.35</td>\n      <td>2475.00</td>\n      <td>2450.00</td>\n      <td>2467.83</td>\n      <td>682105.41</td>\n    </tr>\n  </tbody>\n</table>\n</div>"
     },
     "execution_count": 14,
     "metadata": {},
     "output_type": "execute_result"
    }
   ],
   "source": [
    "data.head()"
   ],
   "metadata": {
    "collapsed": false,
    "pycharm": {
     "name": "#%%\n"
    }
   }
  },
  {
   "cell_type": "markdown",
   "source": [
    "## Create features with the data module"
   ],
   "metadata": {
    "collapsed": false
   }
  },
  {
   "cell_type": "code",
   "execution_count": 15,
   "outputs": [],
   "source": [
    "from tensortrade.data import Node, Module, DataFeed, Stream, Select\n",
    "\n",
    "\n",
    "def rsi(price: Node, period: float):\n",
    "    r = price.diff()\n",
    "    upside = r.clamp_min(0).abs()\n",
    "    downside = r.clamp_max(0).abs()\n",
    "    rs = upside.ewm(alpha=1 / period).mean() / downside.ewm(alpha=1 / period).mean()\n",
    "    return 100*(1 - (1 + rs) ** -1)\n",
    "\n",
    "\n",
    "def macd(price: Node, fast: float, slow: float, signal: float) -> Node:\n",
    "    fm = price.ewm(span=fast, adjust=False).mean()\n",
    "    sm = price.ewm(span=slow, adjust=False).mean()\n",
    "    md = fm - sm\n",
    "    signal = md - md.ewm(span=signal, adjust=False).mean()\n",
    "    return signal\n",
    "\n",
    "\n",
    "features = []\n",
    "for c in data.columns[1:]:\n",
    "    s = Stream(list(data[c])).rename(data[c].name)\n",
    "    features += [s]\n",
    "\n",
    "btc_close = Select(\"BTC:close\")(*features)\n",
    "\n",
    "features += [\n",
    "    rsi(btc_close, period=24).rename(\"BTC:rsi\"),\n",
    "    macd(btc_close, fast=10, slow=50, signal=5).rename(\"BTC:macd\"),\n",
    "]\n",
    "\n",
    "feed = DataFeed(features)\n",
    "feed.compile()\n",
    "\n",
    "\n",
    "\n",
    "features_test = []\n",
    "for c in test_data.columns[1:]:\n",
    "    s = Stream(list(test_data[c])).rename(test_data[c].name)\n",
    "    features_test += [s]\n",
    "\n",
    "btc_close = Select(\"BTC:close\")(*features_test)\n",
    "\n",
    "features_test += [\n",
    "    rsi(btc_close, period=24).rename(\"BTC:rsi\"),\n",
    "    macd(btc_close, fast=10, slow=50, signal=5).rename(\"BTC:macd\"),\n",
    "]\n",
    "\n",
    "feed_test = DataFeed(features_test)\n",
    "feed_test.compile()"
   ],
   "metadata": {
    "collapsed": false,
    "pycharm": {
     "name": "#%%\n"
    }
   }
  },
  {
   "cell_type": "code",
   "execution_count": 16,
   "outputs": [
    {
     "name": "stderr",
     "output_type": "stream",
     "text": [
      "C:\\Users\\suuser\\PycharmProjects\\tensortrade\\tensortrade\\data\\stream\\node.py:933: RuntimeWarning: invalid value encountered in double_scalars\n",
      "  v = (w[::-1] * x).sum() / w.sum()\n"
     ]
    }
   ],
   "source": [
    "feed.next()\n",
    "feed.reset()\n",
    "\n",
    "feed_test.next()\n",
    "feed_test.reset()"
   ],
   "metadata": {
    "collapsed": false,
    "pycharm": {
     "name": "#%%\n"
    }
   }
  },
  {
   "cell_type": "markdown",
   "source": [
    "## Setup Trading Environment"
   ],
   "metadata": {
    "collapsed": false
   }
  },
  {
   "cell_type": "code",
   "execution_count": 17,
   "outputs": [],
   "source": [
    "from tensortrade.exchanges import Exchange\n",
    "from tensortrade.exchanges.services.execution.simulated import execute_order\n",
    "from tensortrade.data import Stream, DataFeed, Module\n",
    "from tensortrade.instruments import USD, BTC, ETH\n",
    "from tensortrade.wallets import Wallet, Portfolio\n",
    "from tensortrade.environments import TradingEnvironment\n",
    "from tensortrade.rewards import RiskAdjustedReturns\n",
    "import copy\n",
    "\n",
    "coinbase = Exchange(\"coinbase\", service=execute_order)(\n",
    "    Stream(list(data[\"BTC:close\"])).rename(\"USD-BTC\")\n",
    ")\n",
    "\n",
    "test_coinbase = Exchange(\"coinbase\", service=execute_order)(\n",
    "    Stream(list(test_data[\"BTC:close\"])).rename(\"USD-BTC\")\n",
    ")\n",
    "\n",
    "portfolio = Portfolio(USD, [\n",
    "    Wallet(coinbase, 10000 * USD),\n",
    "    Wallet(coinbase, 0 * BTC),\n",
    "])\n",
    "\n",
    "test_portfolio = Portfolio(USD, [\n",
    "    Wallet(test_coinbase, 10000 * USD),\n",
    "    Wallet(test_coinbase, 0 * BTC),\n",
    "])\n",
    "\n",
    "env = TradingEnvironment(\n",
    "    feed=feed,\n",
    "    portfolio=portfolio,\n",
    "    use_internal=False,\n",
    "    action_scheme=\"simple\",\n",
    "    reward_scheme=RiskAdjustedReturns(return_algorithm = 'sortino', window_size = 24),\n",
    "    window_size=24\n",
    ")\n",
    "\n",
    "test_env = TradingEnvironment(\n",
    "    feed=feed_test,\n",
    "    portfolio=test_portfolio,\n",
    "    use_internal=False,\n",
    "    action_scheme=\"simple\",\n",
    "    reward_scheme=RiskAdjustedReturns(return_algorithm = 'sortino', window_size = 24),\n",
    "    window_size=24\n",
    ")\n"
   ],
   "metadata": {
    "collapsed": false,
    "pycharm": {
     "name": "#%%\n"
    }
   }
  },
  {
   "cell_type": "markdown",
   "source": [
    "## Example Data Feed Observation\n",
    "\n",
    "Even though this observation contains data from the internal data feed, since `use_internal=False` this data will not be provided as input to the observation history. The data that will be added to observation history of the environment will strictly be the nodes that have been included into the data feed that has been provided as a parameter to the trading environment."
   ],
   "metadata": {
    "collapsed": false
   }
  },
  {
   "cell_type": "code",
   "execution_count": 18,
   "outputs": [
    {
     "data": {
      "text/plain": "{'BTC:open': 2505.56,\n 'BTC:high': 2513.38,\n 'BTC:low': 2495.12,\n 'BTC:close': 2509.17,\n 'BTC:volume': 287000.32,\n 'BTC:rsi': nan,\n 'BTC:macd': -1.0105496686365867e-13,\n 'coinbase:/USD-BTC': 2509.17,\n 'coinbase:/USD:/free': 10000.0,\n 'coinbase:/USD:/locked': 0.0,\n 'coinbase:/USD:/total': 10000.0,\n 'coinbase:/BTC:/free': 0.0,\n 'coinbase:/BTC:/locked': 0.0,\n 'coinbase:/BTC:/total': 0.0,\n 'coinbase:/BTC:/worth': 0.0,\n 'net_worth': 10000.0}"
     },
     "execution_count": 18,
     "metadata": {},
     "output_type": "execute_result"
    }
   ],
   "source": [
    "env.feed.next()\n",
    "\n"
   ],
   "metadata": {
    "collapsed": false,
    "pycharm": {
     "name": "#%%\n"
    }
   }
  },
  {
   "cell_type": "code",
   "execution_count": 19,
   "outputs": [
    {
     "data": {
      "text/plain": "<module 'tensortrade.agents.a2c_lstm_agent' from 'C:\\\\Users\\\\suuser\\\\PycharmProjects\\\\tensortrade\\\\tensortrade\\\\agents\\\\a2c_lstm_agent.py'>"
     },
     "execution_count": 19,
     "metadata": {},
     "output_type": "execute_result"
    }
   ],
   "source": [
    "import tensortrade.agents.a2c_lstm_agent\n",
    "from tensortrade.agents.a2c_lstm_agent import A2C_LSTM_Agent\n",
    "import importlib\n",
    "importlib.reload(tensortrade.agents.a2c_lstm_agent)\n",
    "\n",
    "#agent = A2C_LSTM_Agent(env, validation_feed=feed_test)\n",
    "\n",
    "#agent.train(n_steps=data.shape[0], batch_size=24*7, train_end=0.3, n_episodes=500, save_path=\"D:/Users/suuser/Desktop/test_results\")\n",
    "\n"
   ],
   "metadata": {
    "collapsed": false,
    "pycharm": {
     "name": "#%%\n"
    }
   }
  },
  {
   "cell_type": "code",
   "execution_count": null,
   "outputs": [
    {
     "name": "stdout",
     "output_type": "stream",
     "text": [
      "starting\n",
      "====      AGENT ID: 6ca2d520-510e-4a04-89ea-2b13f5786e5e      ====\n",
      "[10000.00 USD, 0.00000000 BTC]\n",
      "====      TRAIN EPISODE ID (1/500): cf04f3ec-eaee-48d3-95ff-3ecf78d024be      ====\n",
      "step 0/21925\n",
      "[10000.00 USD, 0.00000000 BTC]\n",
      "None\n",
      "exchange: 2509.17\n",
      "step 24/21925\n",
      "[9200.27 USD, 0.27772963 BTC]\n",
      "9880.596501648\n",
      "exchange: 2449.6\n",
      "step 48/21925\n",
      "[8742.26 USD, 0.38843822 BTC]\n",
      "9714.248957906\n",
      "exchange: 2502.3\n",
      "step 72/21925\n",
      "[7040.47 USD, 1.03249817 BTC]\n",
      "9740.3804396781\n",
      "exchange: 2614.93\n",
      "step 96/21925\n",
      "[9006.44 USD, 0.20060106 BTC]\n",
      "9522.3979623836\n",
      "exchange: 2572.06\n",
      "step 120/21925\n",
      "[5043.95 USD, 1.62171041 BTC]\n",
      "9265.2297630218\n",
      "exchange: 2602.98\n",
      "step 144/21925\n",
      "[3258.42 USD, 2.26509246 BTC]\n",
      "9047.99632776\n",
      "exchange: 2556.0\n",
      "step 168/21925\n",
      "[7890.26 USD, 0.32348125 BTC]\n",
      "8701.6318453125\n",
      "exchange: 2508.25\n",
      "step 192/21925\n",
      "[7257.91 USD, 0.52698632 BTC]\n",
      "8603.4852503088\n",
      "exchange: 2553.34\n",
      "step 216/21925\n",
      "[2459.06 USD, 2.37550739 BTC]\n",
      "8385.665877163201\n",
      "exchange: 2494.88\n",
      "step 240/21925\n",
      "[8019.40 USD, 0.00094337 BTC]\n",
      "8021.626447537\n",
      "exchange: 2360.1\n",
      "step 264/21925\n",
      "[0.00 USD, 3.40282836 BTC]\n",
      "8007.6377816028\n",
      "exchange: 2353.23\n",
      "step 288/21925\n",
      "[0.00 USD, 3.34860822 BTC]\n",
      "7988.975546947201\n",
      "exchange: 2385.76\n",
      "step 312/21925\n",
      "[7906.23 USD, 0.00000345 BTC]\n",
      "7906.2380319105\n",
      "exchange: 2328.09\n",
      "step 336/21925\n",
      "[6646.95 USD, 0.56546802 BTC]\n",
      "7815.0881810358\n",
      "exchange: 2065.79\n",
      "step 360/21925\n",
      "[7553.75 USD, 0.04823491 BTC]\n",
      "7642.6913152472\n",
      "exchange: 1843.92\n",
      "step 384/21925\n",
      "[4592.84 USD, 1.50495845 BTC]\n",
      "7612.855171199501\n",
      "exchange: 2006.71\n",
      "step 408/21925\n",
      "[0.00 USD, 3.44812386 BTC]\n",
      "7882.2042565284\n",
      "exchange: 2285.94\n",
      "step 432/21925\n",
      "[7828.85 USD, 0.00016692 BTC]\n",
      "7829.2415058524\n",
      "exchange: 2345.47\n",
      "step 456/21925\n",
      "[7712.21 USD, 0.00000648 BTC]\n",
      "7712.2259564168\n",
      "exchange: 2462.41\n",
      "step 480/21925\n",
      "[7610.90 USD, 0.00039281 BTC]\n",
      "7611.9860450160995\n",
      "exchange: 2764.81\n",
      "step 504/21925\n",
      "[7587.53 USD, 0.00000510 BTC]\n",
      "7587.544341098\n",
      "exchange: 2811.98\n",
      "step 528/21925\n",
      "[7604.31 USD, 0.00012289 BTC]\n",
      "7604.6427971801\n",
      "exchange: 2708.09\n",
      "step 552/21925\n",
      "[7632.46 USD, 0.00040738 BTC]\n",
      "7633.5864057\n",
      "exchange: 2765.0\n",
      "step 576/21925\n",
      "[7633.57 USD, 0.00000636 BTC]\n",
      "7633.5863268196\n",
      "exchange: 2567.11\n",
      "step 600/21925\n",
      "[7633.59 USD, 0.00000000 BTC]\n",
      "7633.59\n",
      "exchange: 2536.26\n",
      "step 624/21925\n",
      "[7633.59 USD, 0.00000000 BTC]\n",
      "7633.59\n",
      "exchange: 2574.02\n",
      "step 648/21925\n",
      "[7609.35 USD, 0.00001802 BTC]\n",
      "7609.400776395601\n",
      "exchange: 2817.78\n",
      "step 672/21925\n",
      "[7241.02 USD, 0.13959544 BTC]\n",
      "7614.997579714401\n",
      "exchange: 2679.01\n",
      "step 696/21925\n",
      "[7509.08 USD, 0.00008455 BTC]\n",
      "7509.3055159875\n",
      "exchange: 2667.25\n",
      "step 720/21925\n",
      "[7503.15 USD, 0.00107641 BTC]\n",
      "7506.143496209999\n",
      "exchange: 2781.0\n",
      "step 744/21925\n",
      "[7506.12 USD, 0.00000420 BTC]\n",
      "7506.131861472\n",
      "exchange: 2824.16\n",
      "step 768/21925\n",
      "[7506.12 USD, 0.00000420 BTC]\n",
      "7506.13156344\n",
      "exchange: 2753.2\n",
      "step 792/21925\n",
      "[7513.95 USD, 0.00000534 BTC]\n",
      "7513.964608958399\n",
      "exchange: 2735.76\n",
      "step 816/21925\n",
      "[7457.03 USD, 0.01054536 BTC]\n",
      "7486.97354972\n",
      "exchange: 2839.5\n",
      "step 840/21925\n",
      "[7494.35 USD, 0.00006757 BTC]\n",
      "7494.561156925701\n",
      "exchange: 3125.01\n",
      "step 864/21925\n",
      "[7526.94 USD, 0.00000000 BTC]\n",
      "7526.94\n",
      "exchange: 3155.0\n",
      "step 888/21925\n",
      "[6904.58 USD, 0.17255643 BTC]\n",
      "7481.1617807663\n",
      "exchange: 3341.41\n",
      "step 912/21925\n",
      "[7552.74 USD, 0.00000417 BTC]\n",
      "7552.7543601456\n",
      "exchange: 3443.68\n",
      "step 936/21925\n",
      "[7552.74 USD, 0.00000417 BTC]\n",
      "7552.7538109983\n",
      "exchange: 3311.99\n"
     ]
    }
   ],
   "source": [
    "import tensortrade.agents.a2c_agent\n",
    "from tensortrade.agents.a2c_agent import A2CAgent\n",
    "import importlib\n",
    "importlib.reload(tensortrade.agents.a2c_agent)\n",
    "\n",
    "env.set_feed(feed)\n",
    "env.compile()\n",
    "env.portfolio.reset()\n",
    "\n",
    "agent = A2CAgent(env, test_env=test_env)\n",
    "print('starting')\n",
    "agent.train(n_steps=data.shape[0], batch_size=24*7, train_end=0.3, n_episodes=500, save_path=\"D:/Users/suuser/Desktop/a2c_test_results\")\n",
    "\n",
    "\n"
   ],
   "metadata": {
    "collapsed": false,
    "pycharm": {
     "name": "#%%\n",
     "is_executing": true
    }
   }
  }
 ],
 "metadata": {
  "kernelspec": {
   "display_name": "Python 3",
   "language": "python",
   "name": "python3"
  },
  "language_info": {
   "codemirror_mode": {
    "name": "ipython",
    "version": 2
   },
   "file_extension": ".py",
   "mimetype": "text/x-python",
   "name": "python",
   "nbconvert_exporter": "python",
   "pygments_lexer": "ipython2",
   "version": "2.7.6"
  }
 },
 "nbformat": 4,
 "nbformat_minor": 0
}