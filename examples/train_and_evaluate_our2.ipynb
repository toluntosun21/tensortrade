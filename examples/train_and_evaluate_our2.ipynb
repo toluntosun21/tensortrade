{
 "cells": [
  {
   "cell_type": "markdown",
   "source": [
    "## Install TensorTrade"
   ],
   "metadata": {
    "collapsed": false
   }
  },
  {
   "cell_type": "code",
   "execution_count": 1,
   "outputs": [],
   "source": [
    "#!python -m pip install -e .. -U"
   ],
   "metadata": {
    "collapsed": false,
    "pycharm": {
     "name": "#%%\n"
    }
   }
  },
  {
   "cell_type": "markdown",
   "source": [
    "## Setup Data Fetching\n",
    "\n",
    "\n"
   ],
   "metadata": {
    "collapsed": false
   }
  },
  {
   "cell_type": "code",
   "execution_count": 2,
   "outputs": [],
   "source": [
    "import pandas as pd\n",
    "\n",
    "data = pd.read_csv('btc_data_train.csv')\n",
    "test_data = pd.read_csv('btc_data_test.csv')"
   ],
   "metadata": {
    "collapsed": false,
    "pycharm": {
     "name": "#%%\n"
    }
   }
  },
  {
   "cell_type": "code",
   "execution_count": 3,
   "outputs": [
    {
     "data": {
      "text/plain": "             date  BTC:open  BTC:high  BTC:low  BTC:close  BTC:volume\n0  7/1/2017 11:00   2505.56   2513.38  2495.12    2509.17   287000.32\n1  7/1/2017 12:00   2509.17   2512.87  2484.99    2488.43   393142.50\n2  7/1/2017 13:00   2488.43   2488.43  2454.40    2454.43   693254.01\n3  7/1/2017 14:00   2454.43   2473.93  2450.83    2459.35   712864.80\n4  7/1/2017 15:00   2459.35   2475.00  2450.00    2467.83   682105.41",
      "text/html": "<div>\n<style scoped>\n    .dataframe tbody tr th:only-of-type {\n        vertical-align: middle;\n    }\n\n    .dataframe tbody tr th {\n        vertical-align: top;\n    }\n\n    .dataframe thead th {\n        text-align: right;\n    }\n</style>\n<table border=\"1\" class=\"dataframe\">\n  <thead>\n    <tr style=\"text-align: right;\">\n      <th></th>\n      <th>date</th>\n      <th>BTC:open</th>\n      <th>BTC:high</th>\n      <th>BTC:low</th>\n      <th>BTC:close</th>\n      <th>BTC:volume</th>\n    </tr>\n  </thead>\n  <tbody>\n    <tr>\n      <th>0</th>\n      <td>7/1/2017 11:00</td>\n      <td>2505.56</td>\n      <td>2513.38</td>\n      <td>2495.12</td>\n      <td>2509.17</td>\n      <td>287000.32</td>\n    </tr>\n    <tr>\n      <th>1</th>\n      <td>7/1/2017 12:00</td>\n      <td>2509.17</td>\n      <td>2512.87</td>\n      <td>2484.99</td>\n      <td>2488.43</td>\n      <td>393142.50</td>\n    </tr>\n    <tr>\n      <th>2</th>\n      <td>7/1/2017 13:00</td>\n      <td>2488.43</td>\n      <td>2488.43</td>\n      <td>2454.40</td>\n      <td>2454.43</td>\n      <td>693254.01</td>\n    </tr>\n    <tr>\n      <th>3</th>\n      <td>7/1/2017 14:00</td>\n      <td>2454.43</td>\n      <td>2473.93</td>\n      <td>2450.83</td>\n      <td>2459.35</td>\n      <td>712864.80</td>\n    </tr>\n    <tr>\n      <th>4</th>\n      <td>7/1/2017 15:00</td>\n      <td>2459.35</td>\n      <td>2475.00</td>\n      <td>2450.00</td>\n      <td>2467.83</td>\n      <td>682105.41</td>\n    </tr>\n  </tbody>\n</table>\n</div>"
     },
     "execution_count": 3,
     "metadata": {},
     "output_type": "execute_result"
    }
   ],
   "source": [
    "data.head()"
   ],
   "metadata": {
    "collapsed": false,
    "pycharm": {
     "name": "#%%\n"
    }
   }
  },
  {
   "cell_type": "markdown",
   "source": [
    "## Create features with the data module"
   ],
   "metadata": {
    "collapsed": false,
    "pycharm": {
     "name": "#%% md\n"
    }
   }
  },
  {
   "cell_type": "code",
   "source": [
    "from tensortrade.data import Node, Module, DataFeed, Stream, Select\n",
    "\n",
    "\n",
    "def rsi(price: Node, period: float):\n",
    "    r = price.diff()\n",
    "    upside = r.clamp_min(0).abs()\n",
    "    downside = r.clamp_max(0).abs()\n",
    "    rs = upside.ewm(alpha=1 / period).mean() / downside.ewm(alpha=1 / period).mean()\n",
    "    return 100*(1 - (1 + rs) ** -1)\n",
    "\n",
    "\n",
    "def macd(price: Node, fast: float, slow: float, signal: float) -> Node:\n",
    "    fm = price.ewm(span=fast, adjust=False).mean()\n",
    "    sm = price.ewm(span=slow, adjust=False).mean()\n",
    "    md = fm - sm\n",
    "    signal = md - md.ewm(span=signal, adjust=False).mean()\n",
    "    return signal\n",
    "\n",
    "\n",
    "features = []\n",
    "for c in data.columns[1:]:\n",
    "    s = Stream(list(data[c])).rename(data[c].name)\n",
    "    features += [s]\n",
    "\n",
    "btc_close = Select(\"BTC:close\")(*features)\n",
    "\n",
    "features += [\n",
    "    rsi(btc_close, period=24).rename(\"BTC:rsi\"),\n",
    "    macd(btc_close, fast=10, slow=50, signal=5).rename(\"BTC:macd\"),\n",
    "]\n",
    "\n",
    "feed = DataFeed(features)\n",
    "feed.compile()\n",
    "\n",
    "\n",
    "\n",
    "features_test = []\n",
    "for c in test_data.columns[1:]:\n",
    "    s = Stream(list(test_data[c])).rename(test_data[c].name)\n",
    "    features_test += [s]\n",
    "\n",
    "btc_close = Select(\"BTC:close\")(*features_test)\n",
    "\n",
    "features_test += [\n",
    "    rsi(btc_close, period=24).rename(\"BTC:rsi\"),\n",
    "    macd(btc_close, fast=10, slow=50, signal=5).rename(\"BTC:macd\"),\n",
    "]\n",
    "\n",
    "feed_test = DataFeed(features_test)\n",
    "feed_test.compile()"
   ],
   "metadata": {
    "collapsed": false,
    "pycharm": {
     "name": "#%%\n"
    }
   },
   "execution_count": 4,
   "outputs": []
  },
  {
   "cell_type": "code",
   "execution_count": 5,
   "outputs": [
    {
     "name": "stderr",
     "output_type": "stream",
     "text": [
      "C:\\Users\\suuser\\PycharmProjects\\tensortrade\\tensortrade\\data\\stream\\node.py:933: RuntimeWarning: invalid value encountered in double_scalars\n",
      "  v = (w[::-1] * x).sum() / w.sum()\n"
     ]
    }
   ],
   "source": [
    "feed.next()\n",
    "feed.reset()\n",
    "\n",
    "feed_test.next()\n",
    "feed_test.reset()"
   ],
   "metadata": {
    "collapsed": false,
    "pycharm": {
     "name": "#%%\n"
    }
   }
  },
  {
   "cell_type": "markdown",
   "source": [
    "## Setup Trading Environment"
   ],
   "metadata": {
    "collapsed": false,
    "pycharm": {
     "name": "#%% md\n"
    }
   }
  },
  {
   "cell_type": "code",
   "source": [
    "from tensortrade.exchanges import Exchange\n",
    "from tensortrade.exchanges.services.execution.simulated import execute_order\n",
    "from tensortrade.data import Stream, DataFeed, Module\n",
    "from tensortrade.instruments import USD, BTC, ETH\n",
    "from tensortrade.wallets import Wallet, Portfolio\n",
    "from tensortrade.environments import TradingEnvironment\n",
    "from tensortrade.rewards import RiskAdjustedReturns\n",
    "import copy\n",
    "\n",
    "coinbase = Exchange(\"coinbase\", service=execute_order)(\n",
    "    Stream(list(data[\"BTC:close\"])).rename(\"USD-BTC\")\n",
    ")\n",
    "\n",
    "test_coinbase = Exchange(\"coinbase\", service=execute_order)(\n",
    "    Stream(list(test_data[\"BTC:close\"])).rename(\"USD-BTC\")\n",
    ")\n",
    "\n",
    "portfolio = Portfolio(USD, [\n",
    "    Wallet(coinbase, 10000 * USD),\n",
    "    Wallet(coinbase, 0 * BTC),\n",
    "])\n",
    "\n",
    "test_portfolio = Portfolio(USD, [\n",
    "    Wallet(test_coinbase, 10000 * USD),\n",
    "    Wallet(test_coinbase, 0 * BTC),\n",
    "])\n",
    "\n",
    "env = TradingEnvironment(\n",
    "    feed=feed,\n",
    "    portfolio=portfolio,\n",
    "    use_internal=False,\n",
    "    action_scheme=\"simple\",\n",
    "    reward_scheme=RiskAdjustedReturns(return_algorithm = 'sortino', window_size = 24),\n",
    "    window_size=24\n",
    ")\n",
    "\n",
    "test_env = TradingEnvironment(\n",
    "    feed=feed_test,\n",
    "    portfolio=test_portfolio,\n",
    "    use_internal=False,\n",
    "    action_scheme=\"simple\",\n",
    "    reward_scheme=RiskAdjustedReturns(return_algorithm = 'sortino', window_size = 24),\n",
    "    window_size=24\n",
    ")\n"
   ],
   "metadata": {
    "collapsed": false,
    "pycharm": {
     "name": "#%%\n"
    }
   },
   "execution_count": 6,
   "outputs": []
  },
  {
   "cell_type": "markdown",
   "source": [
    "## Example Data Feed Observation\n",
    "\n",
    "Even though this observation contains data from the internal data feed, since `use_internal=False` this data will not be provided as input to the observation history. The data that will be added to observation history of the environment will strictly be the nodes that have been included into the data feed that has been provided as a parameter to the trading environment."
   ],
   "metadata": {
    "collapsed": false,
    "pycharm": {
     "name": "#%% md\n"
    }
   }
  },
  {
   "cell_type": "code",
   "source": [
    "env.feed.next()\n",
    "\n"
   ],
   "metadata": {
    "collapsed": false,
    "pycharm": {
     "name": "#%%\n"
    }
   },
   "execution_count": 7,
   "outputs": [
    {
     "data": {
      "text/plain": "{'BTC:open': 2505.56,\n 'BTC:high': 2513.38,\n 'BTC:low': 2495.12,\n 'BTC:close': 2509.17,\n 'BTC:volume': 287000.32,\n 'BTC:rsi': nan,\n 'BTC:macd': -1.0105496686365867e-13,\n 'coinbase:/USD-BTC': 2509.17,\n 'coinbase:/USD:/free': 10000.0,\n 'coinbase:/USD:/locked': 0.0,\n 'coinbase:/USD:/total': 10000.0,\n 'coinbase:/BTC:/free': 0.0,\n 'coinbase:/BTC:/locked': 0.0,\n 'coinbase:/BTC:/total': 0.0,\n 'coinbase:/BTC:/worth': 0.0,\n 'net_worth': 10000.0}"
     },
     "execution_count": 7,
     "metadata": {},
     "output_type": "execute_result"
    }
   ]
  },
  {
   "cell_type": "code",
   "execution_count": null,
   "outputs": [
    {
     "name": "stdout",
     "output_type": "stream",
     "text": [
      "====      AGENT ID: a21bcf2f-1de9-470f-815a-f53b01a2c59e      ====\n",
      "[10000.00 USD, 0.00000000 BTC]\n",
      "====      TRAIN EPISODE ID (1/500): ea669720-2a34-4276-a7a0-40e32e035df9      ====\n",
      "step 0/21925\n",
      "[10000.00 USD, 0.00000000 BTC]\n",
      "10000.0\n",
      "exchange: 2509.17\n",
      "step 24/21925\n",
      "[5812.60 USD, 1.69597264 BTC]\n",
      "9967.054578944\n",
      "exchange: 2449.6\n",
      "step 48/21925\n",
      "[9589.44 USD, 0.20161429 BTC]\n",
      "10093.939437867\n",
      "exchange: 2502.3\n",
      "step 72/21925\n",
      "[9800.78 USD, 0.09314362 BTC]\n",
      "10044.3440462466\n",
      "exchange: 2614.93\n",
      "step 96/21925\n",
      "[4766.17 USD, 2.01170028 BTC]\n",
      "9940.3838221768\n",
      "exchange: 2572.06\n",
      "step 120/21925\n",
      "[8139.89 USD, 0.62127768 BTC]\n",
      "9757.063375486401\n",
      "exchange: 2602.98\n",
      "step 144/21925\n",
      "[9529.06 USD, 0.00000000 BTC]\n",
      "9529.06\n",
      "exchange: 2556.0\n",
      "step 168/21925\n",
      "[8616.89 USD, 0.29745994 BTC]\n",
      "9362.993894505\n",
      "exchange: 2508.25\n",
      "step 192/21925\n",
      "[8879.19 USD, 0.17683113 BTC]\n",
      "9330.699997474201\n",
      "exchange: 2553.34\n",
      "step 216/21925\n",
      "[8987.03 USD, 0.00421720 BTC]\n",
      "8997.551407936\n",
      "exchange: 2494.88\n",
      "step 240/21925\n",
      "[4991.08 USD, 1.60736238 BTC]\n",
      "8784.615953038\n",
      "exchange: 2360.1\n",
      "step 264/21925\n",
      "[7865.00 USD, 0.25346812 BTC]\n",
      "8461.4687840276\n",
      "exchange: 2353.23\n",
      "step 288/21925\n",
      "[1399.17 USD, 2.87262254 BTC]\n",
      "8252.557951030401\n",
      "exchange: 2385.76\n",
      "step 312/21925\n",
      "[647.05 USD, 3.17918533 BTC]\n",
      "8048.479574919701\n",
      "exchange: 2328.09\n",
      "step 336/21925\n",
      "[7863.72 USD, 0.00111238 BTC]\n",
      "7866.0179434802\n",
      "exchange: 2065.79\n",
      "step 360/21925\n",
      "[6590.11 USD, 0.47492905 BTC]\n",
      "7465.841173876\n",
      "exchange: 1843.92\n",
      "step 384/21925\n",
      "[7462.35 USD, 0.00000000 BTC]\n",
      "7462.35\n",
      "exchange: 2006.71\n",
      "step 408/21925\n",
      "[7265.19 USD, 0.00000390 BTC]\n",
      "7265.198915166\n",
      "exchange: 2285.94\n"
     ]
    }
   ],
   "source": [
    "import tensortrade.agents.a2c_lstm_agent\n",
    "from tensortrade.agents.a2c_lstm_agent import A2C_LSTM_Agent\n",
    "import importlib\n",
    "importlib.reload(tensortrade.agents.a2c_lstm_agent)\n",
    "\n",
    "agent = A2C_LSTM_Agent(env, test_env=test_env)\n",
    "\n",
    "agent.train(n_steps=data.shape[0], batch_size=24*7, train_end=0.3, n_episodes=500, save_path=\"D:/Users/suuser/Desktop/test_results2\")\n",
    "\n"
   ],
   "metadata": {
    "collapsed": false,
    "pycharm": {
     "name": "#%%\n",
     "is_executing": true
    }
   }
  },
  {
   "cell_type": "code",
   "execution_count": null,
   "outputs": [],
   "source": [
    "import tensortrade.agents.a2c_agent\n",
    "from tensortrade.agents.a2c_agent import A2CAgent\n",
    "import importlib\n",
    "importlib.reload(tensortrade.agents.a2c_agent)\n",
    "\n",
    "#agent = A2CAgent(env, validation_feed=feed_test)\n",
    "\n",
    "#agent.train(n_steps=data.shape[0], batch_size=24*7, train_end=0.3, n_episodes=500, save_path=\"D:/Users/suuser/Desktop/a2c_test_results\")\n",
    "\n",
    "\n"
   ],
   "metadata": {
    "collapsed": false,
    "pycharm": {
     "name": "#%%\n",
     "is_executing": true
    }
   }
  }
 ],
 "metadata": {
  "kernelspec": {
   "display_name": "Python 3",
   "language": "python",
   "name": "python3"
  },
  "language_info": {
   "codemirror_mode": {
    "name": "ipython",
    "version": 2
   },
   "file_extension": ".py",
   "mimetype": "text/x-python",
   "name": "python",
   "nbconvert_exporter": "python",
   "pygments_lexer": "ipython2",
   "version": "2.7.6"
  }
 },
 "nbformat": 4,
 "nbformat_minor": 0
}